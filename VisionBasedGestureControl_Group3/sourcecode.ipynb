{
 "cells": [
  {
   "cell_type": "markdown",
   "id": "aff28842",
   "metadata": {},
   "source": [
    "SVM Training"
   ]
  },
  {
   "cell_type": "code",
   "execution_count": null,
   "id": "85badf63",
   "metadata": {},
   "outputs": [],
   "source": [
    "import cv2\n",
    "import os\n",
    "import numpy as np\n",
    "from sklearn import svm\n",
    "import joblib\n",
    "\n",
    "gestures = ['one', 'two', 'three']\n",
    "features, labels = [], []\n",
    "\n",
    "for label, gesture in enumerate(gestures, start=1):\n",
    "    folder = f'data/{gesture}/'\n",
    "    for img_name in os.listdir(folder):\n",
    "        img = cv2.imread(os.path.join(folder, img_name), 0)\n",
    "        if img is None:\n",
    "            continue\n",
    "        img = cv2.resize(img, (64, 64)).flatten()\n",
    "        features.append(img)\n",
    "        labels.append(label)\n",
    "\n",
    "clf = svm.SVC(kernel='linear')\n",
    "clf.fit(features, labels)\n",
    "joblib.dump(clf, 'config/model.pkl')\n",
    "print(\"Model trained and saved.\")\n"
   ]
  },
  {
   "cell_type": "markdown",
   "id": "14094f03",
   "metadata": {},
   "source": [
    "ROS Publisher Node"
   ]
  },
  {
   "cell_type": "code",
   "execution_count": null,
   "id": "899e708e",
   "metadata": {},
   "outputs": [],
   "source": [
    "#!/usr/bin/env python3\n",
    "import rospy\n",
    "from std_msgs.msg import Int32\n",
    "import cv2\n",
    "import joblib\n",
    "\n",
    "model = joblib.load('/home/pi/dofbot_gesture_control/config/model.pkl')\n",
    "pub = rospy.Publisher('/gesture_id', Int32, queue_size=10)\n",
    "\n",
    "def main():\n",
    "    rospy.init_node('gesture_detector')\n",
    "    cap = cv2.VideoCapture(0)\n",
    "    while not rospy.is_shutdown():\n",
    "        ret, frame = cap.read()\n",
    "        if not ret:\n",
    "            continue\n",
    "\n",
    "        gray = cv2.cvtColor(frame, cv2.COLOR_BGR2GRAY)\n",
    "        roi = gray[100:200, 100:200]\n",
    "        roi_resized = cv2.resize(roi, (64, 64)).flatten()\n",
    "        gesture_id = model.predict([roi_resized])[0]\n",
    "        pub.publish(gesture_id)\n",
    "\n",
    "        cv2.rectangle(frame, (100, 100), (200, 200), (255, 0, 0), 2)\n",
    "        cv2.putText(frame, f\"Gesture: {gesture_id}\", (10, 30), cv2.FONT_HERSHEY_SIMPLEX, 1, (0,255,0), 2)\n",
    "        cv2.imshow(\"Gesture Detection\", frame)\n",
    "\n",
    "        if cv2.waitKey(1) & 0xFF == ord('q'):\n",
    "            break\n",
    "\n",
    "    cap.release()\n",
    "    cv2.destroyAllWindows()\n",
    "\n",
    "if __name__ == '__main__':\n",
    "    main()\n"
   ]
  },
  {
   "cell_type": "markdown",
   "id": "da457e74",
   "metadata": {},
   "source": [
    "ROS Subscriber Node"
   ]
  },
  {
   "cell_type": "code",
   "execution_count": null,
   "id": "62e0e5b6",
   "metadata": {},
   "outputs": [],
   "source": [
    "#!/usr/bin/env python3\n",
    "import rospy\n",
    "from std_msgs.msg import Int32\n",
    "from Arm_Lib import Arm_Device\n",
    "import time\n",
    "\n",
    "arm = Arm_Device()\n",
    "\n",
    "def do_behavior(gesture_id):\n",
    "    if gesture_id == 1:\n",
    "        rospy.loginfo(\"Gesture 1: Pick\")\n",
    "        arm.Arm_serial_servo_write(1, 90, 500)\n",
    "        arm.Arm_serial_servo_write(2, 45, 500)\n",
    "\n",
    "    elif gesture_id == 2:\n",
    "        rospy.loginfo(\"Gesture 2: Wave\")\n",
    "        for _ in range(2):\n",
    "            arm.Arm_serial_servo_write(5, 30, 300)\n",
    "            time.sleep(0.3)\n",
    "            arm.Arm_serial_servo_write(5, 90, 300)\n",
    "            time.sleep(0.3)\n",
    "\n",
    "    elif gesture_id == 3:\n",
    "        rospy.loginfo(\"Gesture 3: Reset\")\n",
    "        arm.Arm_serial_servo_write(1, 90, 500)\n",
    "        arm.Arm_serial_servo_write(2, 90, 500)\n",
    "        arm.Arm_serial_servo_write(3, 90, 500)\n",
    "\n",
    "def callback(msg):\n",
    "    do_behavior(msg.data)\n",
    "\n",
    "def main():\n",
    "    rospy.init_node('robot_behavior_node')\n",
    "    rospy.Subscriber('/gesture_id', Int32, callback)\n",
    "    rospy.spin()\n",
    "\n",
    "if __name__ == '__main__':\n",
    "    main()\n"
   ]
  },
  {
   "cell_type": "markdown",
   "id": "fcfefc8c",
   "metadata": {},
   "source": [
    "ROS Launch File"
   ]
  },
  {
   "cell_type": "code",
   "execution_count": null,
   "id": "415bba54",
   "metadata": {},
   "outputs": [],
   "source": [
    "<launch>\n",
    "  <node name=\"gesture_detector\" pkg=\"dofbot_gesture_control\" type=\"gesture_detect.py\" output=\"screen\"/>\n",
    "  <node name=\"robot_behavior_node\" pkg=\"dofbot_gesture_control\" type=\"robot_behavior.py\" output=\"screen\"/>\n",
    "</launch>\n"
   ]
  },
  {
   "cell_type": "code",
   "execution_count": null,
   "id": "5e67ee81",
   "metadata": {},
   "outputs": [],
   "source": [
    "roscore\n"
   ]
  },
  {
   "cell_type": "code",
   "execution_count": null,
   "id": "beeb6322",
   "metadata": {},
   "outputs": [],
   "source": [
    "roslaunch dofbot_gesture_control gesture_control.launch\n"
   ]
  }
 ],
 "metadata": {
  "kernelspec": {
   "display_name": "venv",
   "language": "python",
   "name": "python3"
  },
  "language_info": {
   "name": "python",
   "version": "3.11.9"
  }
 },
 "nbformat": 4,
 "nbformat_minor": 5
}
